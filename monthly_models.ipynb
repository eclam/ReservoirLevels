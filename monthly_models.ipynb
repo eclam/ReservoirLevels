{
 "cells": [
  {
   "cell_type": "code",
   "execution_count": null,
   "metadata": {},
   "outputs": [],
   "source": [
    "import pandas as pd\n",
    "from pandas.plotting import register_matplotlib_converters\n",
    "import sys\n",
    "import matplotlib.pyplot as plt\n",
    "import numpy as np\n",
    "\n",
    "from sklearn.decomposition import PCA\n",
    "from sklearn.model_selection import train_test_split\n",
    "import datetime as dt\n",
    "from sklearn.svm import SVR\n",
    "from sklearn.pipeline import make_pipeline\n",
    "from sklearn.impute import SimpleImputer\n",
    "from sklearn.preprocessing import MinMaxScaler, StandardScaler, RobustScaler\n",
    "import joblib"
   ]
  },
  {
   "cell_type": "code",
   "execution_count": null,
   "metadata": {},
   "outputs": [],
   "source": [
    "HDF_NAME = 'monthly_combined_data.hdf'\n",
    "with pd.HDFStore(HDF_NAME) as store:\n",
    "    monthly_keys = [key[1:] for key in store.keys()]\n",
    "    \n",
    "SAVE_MODELS = False\n",
    "X_COLUMNS = ['year', 'month', 'monthly_water_mean', 'monthly_water_total',\n",
    "       'monthly_water_min', 'monthly_water_max', 'min_water_day',\n",
    "       'max_water_day', 'mean_max_temp', 'mean_min_temp', 'mean_temp',\n",
    "       'month_min_temp', 'month_max_temp', 'rain', 'total_snow', 'precip',\n",
    "       'remaining_snow']\n",
    "Y_COLUMN = 'monthly_water_mean'"
   ]
  },
  {
   "cell_type": "code",
   "execution_count": null,
   "metadata": {},
   "outputs": [],
   "source": [
    "def plot_errors(model, X_valid, y_valid, output_filename):\n",
    "    plt.hist(y_valid - model.predict(X_valid), bins=100)\n",
    "    plt.savefig('models/errors_{}.png'.format(output_filename))\n",
    "    plt.close()\n",
    "\n",
    "def plot_model(df, model, output_filename, filter_month=None):\n",
    "    if filter_month:\n",
    "        df = df[df['month'] == filter_month]\n",
    "    # real values in blue, predicted values in red\n",
    "    plt.plot(df[Y_COLUMN], 'b.', alpha=0.5)\n",
    "    plt.scatter(df.index, model.predict(df[X_COLUMNS]), s=1, alpha=0.7, c='r')\n",
    "    plt.show()\n",
    "    plt.savefig('models/predict_{}.png'.format(output_filename))\n",
    "    plt.close()\n",
    "    \n",
    "def plot_df_vals(df):\n",
    "    scaled_df = pd.DataFrame(StandardScaler().fit_transform(df))\n",
    "    scaled_df.columns = df.columns\n",
    "    scaled_df.index = df.index\n",
    "    plt.plot(scaled_df.index, scaled_df['water_level'], c= 'b')\n",
    "    plt.plot(scaled_df.index, scaled_df['precip'], c= 'r')\n",
    "    plt.plot(scaled_df.index, scaled_df['rain'], c= 'yellow')\n",
    "    plt.plot(scaled_df.index, scaled_df['mean_temp'], c='g')\n",
    "    plt.plot(scaled_df.index, scaled_df['snow_precip'], c='aqua')\n",
    "    plt.plot(scaled_df.index, scaled_df['snow_on_grnd'], c='magenta')\n",
    "    \n",
    "def model_scores(model, X_train, X_valid, y_train, y_valid):\n",
    "    return {'train_score': model.score(X_train, y_train), 'valid_score': model.score(X_valid, y_valid)}\n",
    "\n",
    "def train_and_generate_model(X_train, y_train, C, n_components, scaler):\n",
    "    imputer = SimpleImputer()\n",
    "    model = make_pipeline(\n",
    "        imputer,\n",
    "        scaler,\n",
    "        PCA(n_components=n_components), # assume we have some kind of time, precip and temp dimensionality\n",
    "        SVR(C=C, gamma='scale')\n",
    "    )\n",
    "    model.fit(X_train, y_train)\n",
    "    return model\n",
    "\n",
    "def prepare_df(df):\n",
    "    X = df[X_COLUMNS]\n",
    "    y = df[Y_COLUMN].values\n",
    "    return (X, y)"
   ]
  },
  {
   "cell_type": "code",
   "execution_count": null,
   "metadata": {},
   "outputs": [],
   "source": [
    "def create_models(key,df=None, filter_month=None, show_plot=False, n_components=5, C=100, scaler=MinMaxScaler()):\n",
    "    if df is None:\n",
    "        df = pd.read_hdf(HDF_NAME, key=key).sort_index().dropna()\n",
    "    X, y = prepare_df(df)\n",
    "    \n",
    "    if len(df) == 0:\n",
    "        return None, None\n",
    "    \n",
    "    X_train, X_valid, y_train, y_valid = train_test_split(X, y)\n",
    "\n",
    "    model = train_and_generate_model(X_train, y_train, C=C, n_components=n_components, scaler=scaler)\n",
    "    \n",
    "    if show_plot:\n",
    "        plot_model(df, model, key, filter_month)\n",
    "    if SAVE_MODELS:\n",
    "        joblib.dump(model, 'models/model-{}.pckl'.format(key))\n",
    "        \n",
    "    return model, model_scores(model, X_train, X_valid, y_train, y_valid)"
   ]
  },
  {
   "cell_type": "code",
   "execution_count": null,
   "metadata": {},
   "outputs": [],
   "source": [
    "def PCA_test(key):\n",
    "    df = pd.read_hdf(HDF_NAME, key=key).sort_index().dropna()\n",
    "    for i in range(2,8):\n",
    "        print(key, i, create_models(key, df=df, n_components=i)[1])\n",
    "    print()"
   ]
  },
  {
   "cell_type": "code",
   "execution_count": null,
   "metadata": {},
   "outputs": [],
   "source": [
    "def SVR_test(key):\n",
    "    df = pd.read_hdf(HDF_NAME, key=key).sort_index().dropna()\n",
    "    for i in range(-3,3):\n",
    "        print(key, i, create_models(key, df=df, C=10**i)[1])\n",
    "    print()"
   ]
  },
  {
   "cell_type": "code",
   "execution_count": null,
   "metadata": {},
   "outputs": [],
   "source": [
    "def Scaler_test(key):\n",
    "\n",
    "    df = pd.read_hdf(HDF_NAME, key=key).sort_index().dropna()\n",
    "    print(key, 'standard', create_models(key, df=df, scaler=StandardScaler())[1])\n",
    "    print(key, 'minmax', create_models(key, df=df, scaler=MinMaxScaler())[1])\n",
    "    print(key, 'robust', create_models(key, df=df, scaler=RobustScaler())[1])\n",
    "    print()"
   ]
  },
  {
   "cell_type": "code",
   "execution_count": null,
   "metadata": {},
   "outputs": [],
   "source": [
    "# monthly groupby, accuracy suffers from lack of datapoints\n",
    "for key in monthly_keys:\n",
    "    df = pd.read_hdf(HDF_NAME, key=key).sort_index()\n",
    "    df.index = df.apply(lambda x: dt.date(year=int(x['year']), month=int(x['month']), day=1), axis=1)\n",
    "    print(key, create_models(key, df=df, show_plot=True)[1])\n",
    "# real values are in blue, predicted values are in read"
   ]
  },
  {
   "cell_type": "code",
   "execution_count": null,
   "metadata": {},
   "outputs": [],
   "source": [
    "# WILL NOT RUN QUICKLY, USED FOR OPTIMIZING\n",
    "# test best components. 5 looks pretty good\n",
    "for key in monthly_keys:\n",
    "    PCA_test(key)"
   ]
  },
  {
   "cell_type": "code",
   "execution_count": null,
   "metadata": {},
   "outputs": [],
   "source": [
    "# WILL NOT RUN QUICKLY, USED FOR OPTIMIZING\n",
    "# test best C value. 10e2 looks good, in terms of time/accuraccy tradeoff\n",
    "for key in monthly_keys:\n",
    "    SVR_test(key)"
   ]
  },
  {
   "cell_type": "code",
   "execution_count": null,
   "metadata": {},
   "outputs": [],
   "source": [
    "# WILL NOT RUN QUICKLY, USED FOR OPTIMIZING\n",
    "# test best scaler. minmax looks the best\n",
    "for key in monthly_keys:\n",
    "    Scaler_test(key)"
   ]
  },
  {
   "cell_type": "code",
   "execution_count": null,
   "metadata": {},
   "outputs": [],
   "source": []
  }
 ],
 "metadata": {
  "kernelspec": {
   "display_name": "Python 3",
   "language": "python",
   "name": "python3"
  },
  "language_info": {
   "codemirror_mode": {
    "name": "ipython",
    "version": 3
   },
   "file_extension": ".py",
   "mimetype": "text/x-python",
   "name": "python",
   "nbconvert_exporter": "python",
   "pygments_lexer": "ipython3",
   "version": "3.5.3"
  }
 },
 "nbformat": 4,
 "nbformat_minor": 2
}
