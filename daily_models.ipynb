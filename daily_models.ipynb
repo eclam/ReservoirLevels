{
 "cells": [
  {
   "cell_type": "code",
   "execution_count": null,
   "metadata": {},
   "outputs": [],
   "source": [
    "import pandas as pd\n",
    "from pandas.plotting import register_matplotlib_converters\n",
    "import sys\n",
    "import matplotlib.pyplot as plt\n",
    "import numpy as np\n",
    "\n",
    "from sklearn.decomposition import PCA\n",
    "from sklearn.model_selection import train_test_split\n",
    "import datetime as dt\n",
    "from sklearn.svm import SVR\n",
    "from sklearn.pipeline import make_pipeline\n",
    "from sklearn.impute import SimpleImputer\n",
    "from sklearn.preprocessing import MinMaxScaler, StandardScaler, RobustScaler\n",
    "import joblib"
   ]
  },
  {
   "cell_type": "code",
   "execution_count": null,
   "metadata": {},
   "outputs": [],
   "source": [
    "register_matplotlib_converters()\n",
    "\n",
    "with pd.HDFStore('daily_combined_data.hdf') as store:\n",
    "    daily_keys = [key[1:] for key in store.keys()]"
   ]
  },
  {
   "cell_type": "code",
   "execution_count": null,
   "metadata": {},
   "outputs": [],
   "source": [
    "def plot_errors(model, X_valid, y_valid, output_filename):\n",
    "    plt.hist(y_valid - model.predict(X_valid), bins=100)\n",
    "    plt.savefig('models/errors_{}.png'.format(output_filename))\n",
    "    plt.close()\n",
    "\n",
    "def plot_model(df, model, output_filename, filter_month=None):\n",
    "   # df['date'] = df.index.map(dt.datetime.toordinal)\n",
    "    if filter_month:\n",
    "        df = df[df['month'] == filter_month]\n",
    "    # real values in blue, predicted values in red\n",
    "    plt.plot(df['date'], df['water_level'], 'b.', alpha=0.5)\n",
    "    plt.scatter(df['date'], model.predict(df[X_COLUMNS]), s=1, alpha=0.5, c='r')\n",
    "    plt.show()\n",
    "    plt.savefig('models/predict_{}.png'.format(output_filename))\n",
    "    plt.close()\n",
    "    \n",
    "\n",
    "    \n",
    "def model_scores(model, X_train, X_valid, y_train, y_valid):\n",
    "    return {'train_score': model.score(X_train, y_train), 'valid_score': model.score(X_valid, y_valid)}\n",
    "\n",
    "def train_and_generate_model(X_train, y_train, C, n_components, scaler):\n",
    "    imputer = SimpleImputer()\n",
    "    model = make_pipeline(\n",
    "        imputer,\n",
    "        scaler,\n",
    "        PCA(n_components=n_components), # assume we have some kind of time, precip and temp dimensionality\n",
    "        SVR(C=C, gamma='scale')\n",
    "    )\n",
    "    model.fit(X_train, y_train)\n",
    "    return model\n",
    "\n",
    "def prepare_df(df):\n",
    "    df['date'] = df.index.map(dt.datetime.toordinal)\n",
    "    y_column = 'water_level'\n",
    "    X = df[X_COLUMNS]\n",
    "    y = df['water_level'].values\n",
    "    return (X, y)"
   ]
  },
  {
   "cell_type": "code",
   "execution_count": null,
   "metadata": {},
   "outputs": [],
   "source": [
    "def create_models(key,df=None, filter_month=None, show_plot=False, n_components=5, C=100, scaler=MinMaxScaler()):\n",
    "    if df is None:\n",
    "        df = pd.read_hdf('daily_combined_data.hdf', key=key).sort_index().dropna()\n",
    "    X, y = prepare_df(df)\n",
    "    \n",
    "    if len(df) == 0:\n",
    "        return None, None\n",
    "    \n",
    "    X_train, X_valid, y_train, y_valid = train_test_split(X, y)\n",
    "\n",
    "    model = train_and_generate_model(X_train, y_train, C=C, n_components=n_components, scaler=scaler)\n",
    "    \n",
    "    if show_plot:\n",
    "        plot_model(df, model, key, filter_month)\n",
    "    if SAVE_MODELS:\n",
    "        joblib.dump(model, 'models/model-{}.pckl'.format(key))\n",
    "        \n",
    "    return model, model_scores(model, X_train, X_valid, y_train, y_valid)"
   ]
  },
  {
   "cell_type": "code",
   "execution_count": null,
   "metadata": {},
   "outputs": [],
   "source": [
    "def PCA_test(key, daily=True):\n",
    "    filename = 'daily_combined_data.hdf' if daily else 'monthly_combined_data.hdf'\n",
    "\n",
    "    df = pd.read_hdf(filename, key=key).sort_index().dropna()\n",
    "    for i in range(2,8):\n",
    "        print(key, i, create_models(key, df=df, n_components=i)[1])\n",
    "    print()"
   ]
  },
  {
   "cell_type": "code",
   "execution_count": null,
   "metadata": {},
   "outputs": [],
   "source": [
    "def SVR_test(key, daily=True):\n",
    "    filename = 'daily_combined_data.hdf' if daily else 'monthly_combined_data.hdf'\n",
    "\n",
    "    df = pd.read_hdf(filename, key=key).sort_index().dropna()\n",
    "    for i in range(-3,3):\n",
    "        print(key, i, create_models(key, df=df, C=10**i)[1])\n",
    "    print()"
   ]
  },
  {
   "cell_type": "code",
   "execution_count": null,
   "metadata": {},
   "outputs": [],
   "source": [
    "def Scaler_test(key, daily=True):\n",
    "    filename = 'daily_combined_data.hdf' if daily else 'monthly_combined_data.hdf'\n",
    "\n",
    "    df = pd.read_hdf(filename, key=key).sort_index().dropna()\n",
    "    print(key, 'standard', create_models(key, df=df, scaler=StandardScaler())[1])\n",
    "    print(key, 'minmax', create_models(key, df=df, scaler=MinMaxScaler())[1])\n",
    "    print(key, 'robust', create_models(key, df=df, scaler=RobustScaler())[1])\n",
    "    print()"
   ]
  },
  {
   "cell_type": "code",
   "execution_count": null,
   "metadata": {},
   "outputs": [],
   "source": [
    "SAVE_MODELS = False\n",
    "X_COLUMNS = ['date','year', 'month', 'rain', 'precip', 'mean_temp', 'snow_on_grnd', 'snow_precip']\n",
    "daily_keys"
   ]
  },
  {
   "cell_type": "code",
   "execution_count": null,
   "metadata": {},
   "outputs": [],
   "source": [
    "# WILL TERMINATE <5 mins. Use this to build models. Specific keys can also be set, shown above ^\n",
    "# daily models\n",
    "SAVE_MODELS=True\n",
    "my_model_scores = dict()\n",
    "# There are thirty stations in the dataframe\n",
    "# Some of these do not have enough good data to build a model off of\n",
    "# change slice size to build models for more than the first 5 models\n",
    "slice_size = 5\n",
    "for key in daily_keys[:slice_size]:\n",
    "    model, scores = create_models(key, show_plot=True)\n",
    "    print(key, scores)\n",
    "    my_model_scores[key] = scores\n",
    "    if SAVE_MODELS and scores is not None:\n",
    "        joblib.dump(model, 'models/model-{}.pckl'.format(key))"
   ]
  },
  {
   "cell_type": "code",
   "execution_count": null,
   "metadata": {},
   "outputs": [],
   "source": [
    "my_model_scores"
   ]
  },
  {
   "cell_type": "code",
   "execution_count": null,
   "metadata": {},
   "outputs": [],
   "source": [
    "# WILL NOT TERMINATE QUICKLY\n",
    "# test best components. 5 looks pretty good\n",
    "for key in daily_keys:\n",
    "    PCA_test(key)"
   ]
  },
  {
   "cell_type": "code",
   "execution_count": null,
   "metadata": {},
   "outputs": [],
   "source": [
    "# WILL NOT TERMINATE QUICKLY\n",
    "# test best C value. 10e2 looks good, in terms of time/accuraccy tradeoff\n",
    "for key in daily_keys:\n",
    "    SVR_test(key)"
   ]
  },
  {
   "cell_type": "code",
   "execution_count": null,
   "metadata": {},
   "outputs": [],
   "source": [
    "# WILL NOT TERMINATE QUICKLY\n",
    "# test best scaler. minmax looks the best\n",
    "for key in daily_keys:\n",
    "    Scaler_test(key)"
   ]
  },
  {
   "cell_type": "code",
   "execution_count": null,
   "metadata": {},
   "outputs": [],
   "source": [
    "# Use this to filter a date range out of a dataframe and check the prediction\n",
    "key =  'hydro_08MH149'\n",
    "df = pd.read_hdf('daily_combined_data.hdf', key=key).sort_index().dropna()\n",
    "\n",
    "start ='1990-01-01'#format: %Y-%m-%d \n",
    "end = '2000-07-16' #format: %Y-%m-%d\n",
    "def filter_by_date_range(df,start,end):\n",
    "    df = df.reset_index(drop=False)\n",
    "    df = df.rename(columns={'index':'Date/Time'})\n",
    "    df['Date/Time'] = pd.to_datetime(df['Date/Time'],format=\"%Y-%m-%d\",errors='coerce')\n",
    "    df = df[pd.notnull(df['Date/Time'])]\n",
    "\n",
    "    df = df[(df['Date/Time'] <= end) &(df['Date/Time'] >= start)]\n",
    "    \n",
    "    return df.set_index('Date/Time')\n",
    "\n",
    "model = joblib.load('./models/model-hydro_{hydro_id}.pckl'.format(hydro_id=key[6:]))#create_models(key)[0]\n",
    "\n",
    "model.predict(prepare_df(filter_by_date_range(df, start, end))[0])"
   ]
  },
  {
   "cell_type": "code",
   "execution_count": null,
   "metadata": {
    "scrolled": true
   },
   "outputs": [],
   "source": [
    "# plot a specific month for a model\n",
    "create_models('hydro_08MH149', show_plot=True)[1]"
   ]
  }
 ],
 "metadata": {
  "kernelspec": {
   "display_name": "Python 3",
   "language": "python",
   "name": "python3"
  },
  "language_info": {
   "codemirror_mode": {
    "name": "ipython",
    "version": 3
   },
   "file_extension": ".py",
   "mimetype": "text/x-python",
   "name": "python",
   "nbconvert_exporter": "python",
   "pygments_lexer": "ipython3",
   "version": "3.5.3"
  }
 },
 "nbformat": 4,
 "nbformat_minor": 2
}
