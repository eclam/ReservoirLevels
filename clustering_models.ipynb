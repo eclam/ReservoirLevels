{
 "cells": [
  {
   "cell_type": "code",
   "execution_count": 1,
   "metadata": {},
   "outputs": [],
   "source": [
    "import pandas as pd\n",
    "import h5py\n",
    "from pandas.plotting import register_matplotlib_converters\n",
    "register_matplotlib_converters()\n",
    "import sys\n",
    "\n",
    "import matplotlib.pyplot as plt\n",
    "import numpy as np\n",
    "import pandas as pd\n",
    "import seaborn\n",
    "seaborn.set()"
   ]
  },
  {
   "cell_type": "code",
   "execution_count": 4,
   "metadata": {},
   "outputs": [],
   "source": [
    "keys = [\"hydro_07ED002\", \"hydro_08EB003\", \"hydro_08EC001\", 'hydro_08GA030', \"hydro_08GA077\",\n",
    "        \"hydro_08GA079\", \"hydro_08GB013\", \"hydro_08HA009\", \"hydro_08HB082\", \"hydro_08HC006\",\n",
    "        \"hydro_08HD025\", \"hydro_08JA023\", \"hydro_08LC041\", \"hydro_08MH141\", \"hydro_08MH148\",\n",
    "        \"hydro_08MH149\", \"hydro_08MH167\", \"hydro_08NA002\", \"hydro_08NB017\", \"hydro_08ND017\",\n",
    "        \"hydro_08NE102\", \"hydro_08NE103\", \"hydro_08NE104\", \"hydro_08NE126\", \"hydro_08NH064\",\n",
    "        \"hydro_08NH127\", \"hydro_08NM202\", \"hydro_08NM212\", \"hydro_08NM213\",\"hydro_08NM234\"]"
   ]
  },
  {
   "cell_type": "code",
   "execution_count": 5,
   "metadata": {},
   "outputs": [
    {
     "name": "stdout",
     "output_type": "stream",
     "text": [
      "hydro_07ED002 5555 5555\n",
      "hydro_08EB003 3811 3811\n",
      "hydro_08EC001 10665 10665\n",
      "hydro_08GA030 2667 2667\n",
      "hydro_08GA077 2896 2896\n",
      "hydro_08GA079 2922 2922\n",
      "hydro_08GB013 2541 2541\n",
      "hydro_08HA009 23017 23017\n",
      "hydro_08HB082 9361 9361\n",
      "hydro_08HC006 3247 0\n",
      "hydro_08HD025 7567 7567\n",
      "hydro_08JA023 1095 1095\n",
      "hydro_08LC041 16655 16655\n",
      "hydro_08MH141 2918 2918\n",
      "hydro_08MH148 4611 4611\n",
      "hydro_08MH149 12475 12475\n",
      "hydro_08MH167 3624 3624\n",
      "hydro_08NA002 11894 11894\n",
      "hydro_08NB017 13558 13558\n",
      "hydro_08ND017 16308 16308\n",
      "hydro_08NE102 17810 17810\n",
      "hydro_08NE103 7305 7305\n",
      "hydro_08NE104 17752 17752\n",
      "hydro_08NE126 0 0\n",
      "hydro_08NH064 31655 31655\n",
      "hydro_08NH127 18873 18873\n",
      "hydro_08NM202 0 0\n",
      "hydro_08NM212 0 0\n",
      "hydro_08NM213 1601 1601\n",
      "hydro_08NM234 196 196\n"
     ]
    }
   ],
   "source": [
    "for key in keys:\n",
    "        daily_hdf = pd.read_hdf('daily_combined_data.hdf', key=key)\n",
    "        print(key, len(daily_hdf), len(daily_hdf.dropna()))"
   ]
  },
  {
   "cell_type": "code",
   "execution_count": 6,
   "metadata": {},
   "outputs": [
    {
     "name": "stdout",
     "output_type": "stream",
     "text": [
      "hydro_07ED002 182 0\n",
      "hydro_08EB003 13 0\n",
      "hydro_08EC001 188 0\n",
      "hydro_08GA030 0 0\n",
      "hydro_08GA077 0 0\n",
      "hydro_08GA079 0 0\n",
      "hydro_08GB013 0 0\n",
      "hydro_08HA009 470 0\n",
      "hydro_08HB082 161 0\n",
      "hydro_08HC006 12 0\n",
      "hydro_08HD025 114 0\n",
      "hydro_08JA023 36 0\n",
      "hydro_08LC041 441 0\n",
      "hydro_08MH141 0 0\n",
      "hydro_08MH148 149 0\n",
      "hydro_08MH149 263 0\n",
      "hydro_08MH167 0 0\n",
      "hydro_08NA002 238 0\n",
      "hydro_08NB017 312 0\n",
      "hydro_08ND017 390 0\n",
      "hydro_08NE102 449 0\n",
      "hydro_08NE103 240 0\n",
      "hydro_08NE104 449 0\n",
      "hydro_08NE126 0 0\n",
      "hydro_08NH064 896 0\n",
      "hydro_08NH127 478 0\n",
      "hydro_08NM202 0 0\n",
      "hydro_08NM212 0 0\n",
      "hydro_08NM213 15 0\n",
      "hydro_08NM234 0 0\n"
     ]
    }
   ],
   "source": [
    "for key in keys:\n",
    "        monthly_hdf = pd.read_hdf('monthly_combined_data.hdf', key=key)\n",
    "        print(key, len(monthly_hdf), len(monthly_hdf.dropna()))"
   ]
  },
  {
   "cell_type": "code",
   "execution_count": null,
   "metadata": {},
   "outputs": [],
   "source": []
  }
 ],
 "metadata": {
  "kernelspec": {
   "display_name": "Python 3",
   "language": "python",
   "name": "python3"
  },
  "language_info": {
   "codemirror_mode": {
    "name": "ipython",
    "version": 3
   },
   "file_extension": ".py",
   "mimetype": "text/x-python",
   "name": "python",
   "nbconvert_exporter": "python",
   "pygments_lexer": "ipython3",
   "version": "3.6.8"
  }
 },
 "nbformat": 4,
 "nbformat_minor": 2
}
