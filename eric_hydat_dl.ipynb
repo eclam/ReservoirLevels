{
 "cells": [
  {
   "cell_type": "code",
   "execution_count": 1,
   "metadata": {},
   "outputs": [],
   "source": [
    "import pandas as pd\n",
    "import tables\n"
   ]
  },
  {
   "cell_type": "code",
   "execution_count": 2,
   "metadata": {},
   "outputs": [],
   "source": [
    "h5py = pd.read_hdf('combined_data.hdf', key='hydro_08HD025')\n"
   ]
  },
  {
   "cell_type": "code",
   "execution_count": 4,
   "metadata": {},
   "outputs": [
    {
     "name": "stdout",
     "output_type": "stream",
     "text": [
      "hydro_07ED002 5555 4627\n",
      "hydro_07EF002 13126 5991\n",
      "hydro_07EF003 12061 4620\n",
      "hydro_08GB013 2541 0\n",
      "hydro_08HB082 9361 6890\n",
      "hydro_08HD025 15134 7086\n",
      "hydro_08JA022 1095 1005\n",
      "hydro_08JA023 1095 691\n",
      "hydro_08JA027 1406 1157\n",
      "hydro_08LC018 3109 2832\n",
      "hydro_08LC041 16655 7330\n",
      "hydro_08ME017 14921 0\n",
      "hydro_08MH141 2918 2337\n",
      "hydro_08MH148 4611 4133\n",
      "hydro_08MH149 12475 8418\n",
      "hydro_08MH167 3624 1701\n",
      "hydro_08NB017 13558 11958\n",
      "hydro_08ND017 16308 12376\n",
      "hydro_08NE102 17810 11589\n",
      "hydro_08NE103 7305 2766\n",
      "hydro_08NE104 17752 12603\n",
      "hydro_08NE107 608 480\n",
      "hydro_08NH064 31655 12847\n",
      "hydro_08NH067 29204 18356\n",
      "hydro_08NH127 18873 13552\n",
      "hydro_08NM213 1601 567\n",
      "hydro_08NM234 196 196\n"
     ]
    }
   ],
   "source": [
    "keys = ['hydro_07ED002', 'hydro_07EF002', 'hydro_07EF003', 'hydro_08GB013', 'hydro_08HB082', 'hydro_08HD025', 'hydro_08JA022', 'hydro_08JA023', 'hydro_08JA027', 'hydro_08LC018', 'hydro_08LC041', 'hydro_08ME017', 'hydro_08MH141', 'hydro_08MH148', 'hydro_08MH149', 'hydro_08MH167', 'hydro_08NB017', 'hydro_08ND017', 'hydro_08NE102', 'hydro_08NE103', 'hydro_08NE104', 'hydro_08NE107', 'hydro_08NH064', 'hydro_08NH067', 'hydro_08NH127', 'hydro_08NM213', 'hydro_08NM234']\n",
    "for key in keys:\n",
    "        my_hdf = pd.read_hdf('combined_data.hdf', key=key)\n",
    "        print(key, len(my_hdf), len(my_hdf.dropna()))"
   ]
  },
  {
   "cell_type": "code",
   "execution_count": null,
   "metadata": {},
   "outputs": [],
   "source": []
  }
 ],
 "metadata": {
  "kernelspec": {
   "display_name": "Python 3",
   "language": "python",
   "name": "python3"
  },
  "language_info": {
   "codemirror_mode": {
    "name": "ipython",
    "version": 3
   },
   "file_extension": ".py",
   "mimetype": "text/x-python",
   "name": "python",
   "nbconvert_exporter": "python",
   "pygments_lexer": "ipython3",
   "version": "3.6.8"
  }
 },
 "nbformat": 4,
 "nbformat_minor": 2
}
